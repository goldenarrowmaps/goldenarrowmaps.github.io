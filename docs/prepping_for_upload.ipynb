{
 "cells": [
  {
   "cell_type": "code",
   "execution_count": 1,
   "id": "81b8fa7a",
   "metadata": {},
   "outputs": [],
   "source": [
    "import pandas as pd"
   ]
  },
  {
   "cell_type": "code",
   "execution_count": 2,
   "id": "91beb7cb",
   "metadata": {},
   "outputs": [],
   "source": [
    "import pandas as pd\n",
    "import os\n",
    "import numpy as np\n",
    "import folium"
   ]
  },
  {
   "cell_type": "code",
   "execution_count": 18,
   "id": "fbe16773",
   "metadata": {},
   "outputs": [
    {
     "data": {
      "text/plain": [
       "'This python script needs to output a folder ready for upload to the travellingcr github repo.\\n\\n\\n400,720,648,364\\n\\nThe folder should contain the following structure and contents (18 Apr 2024):\\n{orig}_{dest}_via_{via}/\\n./{route}_{orig}_{dest}_via_{via}.png\\n./map{i}_{route}_{orig}_{dest}_via_{via}.html\\n'"
      ]
     },
     "execution_count": 18,
     "metadata": {},
     "output_type": "execute_result"
    }
   ],
   "source": [
    "'''This python script needs to output a folder ready for upload to the travellingcr github repo.\n",
    "\n",
    "\n",
    "400,720,648,364\n",
    "\n",
    "The folder should contain the following structure and contents (18 Apr 2024):\n",
    "{orig}_{dest}_via_{via}/\n",
    "./{route}_{orig}_{dest}_via_{via}.png\n",
    "./map{i}_{route}_{orig}_{dest}_via_{via}.html\n",
    "'''"
   ]
  },
  {
   "cell_type": "code",
   "execution_count": 19,
   "id": "32bb69c3",
   "metadata": {},
   "outputs": [
    {
     "data": {
      "text/plain": [
       "'pull up the dataframe'"
      ]
     },
     "execution_count": 19,
     "metadata": {},
     "output_type": "execute_result"
    }
   ],
   "source": [
    "'''pull up the dataframe'''"
   ]
  },
  {
   "cell_type": "code",
   "execution_count": 20,
   "id": "6024f174",
   "metadata": {},
   "outputs": [],
   "source": [
    "df = pd.read_json(\"/home/andy/Downloads/v9d4-guqe.json\")"
   ]
  },
  {
   "cell_type": "code",
   "execution_count": 21,
   "id": "24554dfa",
   "metadata": {},
   "outputs": [],
   "source": [
    "i = 988\n",
    "route = df['features'][i]['properties']['route_name']\n",
    "orig = df['features'][i]['properties']['origin']\n",
    "via = df['features'][i]['properties']['via']\n",
    "dest = df['features'][i]['properties']['destinatio']\n",
    "coords = df['features'][i]['geometry']['coordinates'][0]"
   ]
  },
  {
   "cell_type": "code",
   "execution_count": 22,
   "id": "c51ec7ac",
   "metadata": {},
   "outputs": [
    {
     "data": {
      "text/plain": [
       "'make the relevant folder'"
      ]
     },
     "execution_count": 22,
     "metadata": {},
     "output_type": "execute_result"
    }
   ],
   "source": [
    "'''make the relevant folder'''"
   ]
  },
  {
   "cell_type": "code",
   "execution_count": 22,
   "id": "fbc35a8f",
   "metadata": {},
   "outputs": [],
   "source": [
    "try:\n",
    "    os.mkdir(f'{orig}_{dest}_via_{via}')\n",
    "except(FileExistsError):\n",
    "    print(f'{orig}_{dest}_via_{via} Exists')"
   ]
  },
  {
   "cell_type": "code",
   "execution_count": 24,
   "id": "168fd96e",
   "metadata": {},
   "outputs": [
    {
     "data": {
      "text/plain": [
       "'make the map{i}_{route}_{orig}_{dest}_via_{via}.html'"
      ]
     },
     "execution_count": 24,
     "metadata": {},
     "output_type": "execute_result"
    }
   ],
   "source": [
    "'''make the map{i}_{route}_{orig}_{dest}_via_{via}.html'''"
   ]
  },
  {
   "cell_type": "code",
   "execution_count": 23,
   "id": "db496d20",
   "metadata": {},
   "outputs": [],
   "source": [
    "long = [i[0] for i in coords]\n",
    "lat = [i[1] for i in coords]\n",
    "\n",
    "# Create a Folium map centered around the average coordinates\n",
    "m = folium.Map(location=[np.mean(lat), np.mean(long)], zoom_start=12.5)\n",
    "\n",
    "# Add markers for each bus sto\n",
    "# Create a polyline connecting all coordinates\n",
    "folium.PolyLine(locations=[[lat[j],long[j]] for j in range(len(lat))], color='blue').add_to(m)\n",
    "\n",
    "# Save the map as an HTML file\n",
    "\n",
    "m.save(f\"{orig}_{dest}_via_{via}/map{i}_{route}_{orig}_{dest}_via_{via}.html\")"
   ]
  },
  {
   "cell_type": "code",
   "execution_count": 26,
   "id": "9f7df419",
   "metadata": {},
   "outputs": [
    {
     "data": {
      "text/plain": [
       "'CITY_BELLVILLE_via_N1 TABLE BAY BLVD,MONTE VISTA,ROTHCHILD,PLATTEKLOOF,HENDRICK VERWOERD,JIP DE JAGER,KENRIDGE,CARL CRO.png'"
      ]
     },
     "execution_count": 26,
     "metadata": {},
     "output_type": "execute_result"
    }
   ],
   "source": [
    "#'''Automate the screenshot procedure to produce the\"\n",
    "f'{orig}_{dest}_via_{via}.png'"
   ]
  },
  {
   "cell_type": "code",
   "execution_count": 24,
   "id": "2b43937f",
   "metadata": {},
   "outputs": [],
   "source": [
    "pwd = %pwd"
   ]
  },
  {
   "cell_type": "code",
   "execution_count": 25,
   "id": "fbbd0b21",
   "metadata": {},
   "outputs": [],
   "source": [
    "from selenium import webdriver\n",
    "from PIL import Image\n",
    "import time \n",
    "# Create a new instance of the Firefox driver\n",
    "driver = webdriver.Firefox()\n",
    "\n",
    "# Go to the website you want to screenshot\n",
    "driver.get(f'file://{pwd}/{orig}_{dest}_via_{via}/map{i}_{route}_{orig}_{dest}_via_{via}.html')\n",
    "time.sleep(3)\n",
    "# Take screenshot\n",
    "screenshot = driver.save_screenshot(f'{pwd}/{orig}_{dest}_via_{via}/{orig}_{dest}_via_{via}.png')\n",
    "\n",
    "# Quit the driver\n",
    "driver.quit()\n"
   ]
  },
  {
   "cell_type": "code",
   "execution_count": 36,
   "id": "93849f8e",
   "metadata": {},
   "outputs": [],
   "source": [
    "long = [i[0] for i in coords]\n",
    "lat = [i[1] for i in coords]\n",
    "\n",
    "# Create a Folium map centered around the average coordinates\n",
    "m = folium.Map(location=[np.mean(lat), np.mean(long)], zoom_start=12)\n",
    "\n",
    "# Add markers for each bus sto\n",
    "# Create a polyline connecting all coordinates\n",
    "folium.PolyLine(locations=[[lat[j],long[j]] for j in range(len(lat))], color='blue').add_to(m)\n",
    "\n",
    "# Save the map as an HTML file\n",
    "\n",
    "m.save(f\"{orig}_{dest}_via_{via}/map{i}_{route}_{orig}_{dest}_via_{via}.html\")"
   ]
  },
  {
   "cell_type": "code",
   "execution_count": 37,
   "id": "b234ba5c",
   "metadata": {},
   "outputs": [
    {
     "data": {
      "text/plain": [
       "'Automatically scrape the timetable from the golden arrow website'"
      ]
     },
     "execution_count": 37,
     "metadata": {},
     "output_type": "execute_result"
    }
   ],
   "source": [
    "'''Automatically scrape the timetable from the golden arrow website'''"
   ]
  },
  {
   "cell_type": "code",
   "execution_count": 38,
   "id": "be76e051",
   "metadata": {},
   "outputs": [],
   "source": [
    "times = ''"
   ]
  },
  {
   "cell_type": "code",
   "execution_count": 30,
   "id": "2d275277",
   "metadata": {},
   "outputs": [
    {
     "data": {
      "text/plain": [
       "\"Now, let's produce the gallery blocks of text to be added to the index.html page\""
      ]
     },
     "execution_count": 30,
     "metadata": {},
     "output_type": "execute_result"
    }
   ],
   "source": [
    "'''Now, let's update the Route Dataframe'''"
   ]
  },
  {
   "cell_type": "code",
   "execution_count": 69,
   "id": "d73ea5fe",
   "metadata": {},
   "outputs": [
    {
     "data": {
      "text/html": [
       "<div>\n",
       "<style scoped>\n",
       "    .dataframe tbody tr th:only-of-type {\n",
       "        vertical-align: middle;\n",
       "    }\n",
       "\n",
       "    .dataframe tbody tr th {\n",
       "        vertical-align: top;\n",
       "    }\n",
       "\n",
       "    .dataframe thead th {\n",
       "        text-align: right;\n",
       "    }\n",
       "</style>\n",
       "<table border=\"1\" class=\"dataframe\">\n",
       "  <thead>\n",
       "    <tr style=\"text-align: right;\">\n",
       "      <th></th>\n",
       "      <th>Unnamed: 0</th>\n",
       "      <th>Thumbnail</th>\n",
       "      <th>Map</th>\n",
       "      <th>Timetable</th>\n",
       "      <th>Synopsis</th>\n",
       "    </tr>\n",
       "  </thead>\n",
       "  <tbody>\n",
       "    <tr>\n",
       "      <th>0</th>\n",
       "      <td>0</td>\n",
       "      <td>./CITY_RETREAT_via_MAIN RD/CITY_RETREAT_via_MA...</td>\n",
       "      <td>./CITY_RETREAT_via_MAIN RD/map400_008_CR_CITY_...</td>\n",
       "      <td>/Pdf/Rpdf/RETREAT___CAPE_TOWN_from_20240422_to...</td>\n",
       "      <td>City to Retreat (via Main Rd)</td>\n",
       "    </tr>\n",
       "    <tr>\n",
       "      <th>1</th>\n",
       "      <td>1</td>\n",
       "      <td>./CITY_BELLVILLE_via_VOORTREKKER RD/CITY_BELLV...</td>\n",
       "      <td>./CITY_BELLVILLE_via_VOORTREKKER RD/map720_001...</td>\n",
       "      <td>/Pdf/Bpdf/BELLVILLE___CAPE_TOWN_from_20240226_...</td>\n",
       "      <td>City to Bellville (via Voortrekker Rd)</td>\n",
       "    </tr>\n",
       "    <tr>\n",
       "      <th>2</th>\n",
       "      <td>2</td>\n",
       "      <td>./HOUT BAY HARBOUR_WYNBERG_via_VICTORIA RD, PR...</td>\n",
       "      <td>./HOUT BAY HARBOUR_WYNBERG_via_VICTORIA RD, PR...</td>\n",
       "      <td>/Pdf/Hpdf/HOUT_BAY___WYNBERG_from_20240225_to_...</td>\n",
       "      <td>Hout Bay Harbour to Wynberg Station (via Const...</td>\n",
       "    </tr>\n",
       "    <tr>\n",
       "      <th>3</th>\n",
       "      <td>3</td>\n",
       "      <td>./CLAREMONT_WYNBERG_via_VIA BISHOPSCOURT/CLARE...</td>\n",
       "      <td>./CLAREMONT_NYANGA_via_TURFHALL, FLAMINGO, LAN...</td>\n",
       "      <td>/Pdf/Cpdf/CLAREMONT___WYNBERG_from_20221226_to...</td>\n",
       "      <td>Claremont to Wynberg (via Bishopscourt)</td>\n",
       "    </tr>\n",
       "    <tr>\n",
       "      <th>4</th>\n",
       "      <td>4</td>\n",
       "      <td>./CITY_EDGEMEAD_via_N1 FREEWAY, RATANGA CENTUR...</td>\n",
       "      <td>./CITY_EDGEMEAD_via_N1 FREEWAY, RATANGA CENTUR...</td>\n",
       "      <td>/Pdf/Epdf/EDGEMEAD___CAPE_TOWN_from_20240330_t...</td>\n",
       "      <td>Cape Town to Edgemead (via Century City)</td>\n",
       "    </tr>\n",
       "    <tr>\n",
       "      <th>5</th>\n",
       "      <td>5</td>\n",
       "      <td>./CLAREMONT_NYANGA_via_TURFHALL, FLAMINGO, LAN...</td>\n",
       "      <td>CLAREMONT_NYANGA_via_TURFHALL, FLAMINGO, LANSD...</td>\n",
       "      <td>NaN</td>\n",
       "      <td>CLAREMONT to NYANGA via TURFHALL</td>\n",
       "    </tr>\n",
       "  </tbody>\n",
       "</table>\n",
       "</div>"
      ],
      "text/plain": [
       "   Unnamed: 0                                          Thumbnail  \\\n",
       "0           0  ./CITY_RETREAT_via_MAIN RD/CITY_RETREAT_via_MA...   \n",
       "1           1  ./CITY_BELLVILLE_via_VOORTREKKER RD/CITY_BELLV...   \n",
       "2           2  ./HOUT BAY HARBOUR_WYNBERG_via_VICTORIA RD, PR...   \n",
       "3           3  ./CLAREMONT_WYNBERG_via_VIA BISHOPSCOURT/CLARE...   \n",
       "4           4  ./CITY_EDGEMEAD_via_N1 FREEWAY, RATANGA CENTUR...   \n",
       "5           5  ./CLAREMONT_NYANGA_via_TURFHALL, FLAMINGO, LAN...   \n",
       "\n",
       "                                                 Map  \\\n",
       "0  ./CITY_RETREAT_via_MAIN RD/map400_008_CR_CITY_...   \n",
       "1  ./CITY_BELLVILLE_via_VOORTREKKER RD/map720_001...   \n",
       "2  ./HOUT BAY HARBOUR_WYNBERG_via_VICTORIA RD, PR...   \n",
       "3  ./CLAREMONT_NYANGA_via_TURFHALL, FLAMINGO, LAN...   \n",
       "4  ./CITY_EDGEMEAD_via_N1 FREEWAY, RATANGA CENTUR...   \n",
       "5  CLAREMONT_NYANGA_via_TURFHALL, FLAMINGO, LANSD...   \n",
       "\n",
       "                                           Timetable  \\\n",
       "0  /Pdf/Rpdf/RETREAT___CAPE_TOWN_from_20240422_to...   \n",
       "1  /Pdf/Bpdf/BELLVILLE___CAPE_TOWN_from_20240226_...   \n",
       "2  /Pdf/Hpdf/HOUT_BAY___WYNBERG_from_20240225_to_...   \n",
       "3  /Pdf/Cpdf/CLAREMONT___WYNBERG_from_20221226_to...   \n",
       "4  /Pdf/Epdf/EDGEMEAD___CAPE_TOWN_from_20240330_t...   \n",
       "5                                                NaN   \n",
       "\n",
       "                                            Synopsis  \n",
       "0                      City to Retreat (via Main Rd)  \n",
       "1             City to Bellville (via Voortrekker Rd)  \n",
       "2  Hout Bay Harbour to Wynberg Station (via Const...  \n",
       "3            Claremont to Wynberg (via Bishopscourt)  \n",
       "4           Cape Town to Edgemead (via Century City)  \n",
       "5                   CLAREMONT to NYANGA via TURFHALL  "
      ]
     },
     "execution_count": 69,
     "metadata": {},
     "output_type": "execute_result"
    }
   ],
   "source": [
    "route_information = pd.read_csv('Route_Dataframe.csv')\n",
    "route_information"
   ]
  },
  {
   "cell_type": "code",
   "execution_count": 71,
   "id": "fa7164de",
   "metadata": {},
   "outputs": [
    {
     "name": "stdout",
     "output_type": "stream",
     "text": [
      "CLAREMONT to NYANGA via TURFHALL exists in the DataFrame\n"
     ]
    }
   ],
   "source": [
    "keys = route_information.keys()\n",
    "values = [[f'./{orig}_{dest}_via_{via}/{orig}_{dest}_via_{via}.png'],\n",
    "          [f\"{orig}_{dest}_via_{via}/map{i}_{route}_{orig}_{dest}_via_{via}.html\"],\n",
    "         [f'{times}'],\n",
    "         [f\"{orig} to {dest} via {via.split(', ')[0]}\"]]\n",
    "\n",
    "dic = dict(zip(keys,values))\n",
    "\n",
    "df = pd.DataFrame(dic,columns=keys)\n",
    "\n",
    "if (route_information == f\"{orig} to {dest} via {via.split(', ')[0]}\").any().any():\n",
    "    print(f\"{orig} to {dest} via {via.split(', ')[0]} exists in the DataFrame\")\n",
    "else:\n",
    "    print(f\"{orig} to {dest} via {via.split(', ')[0]} added to the DataFrame\")\n",
    "    route_information = route_information.append(df, ignore_index = True)\n",
    "\n",
    "route_information.to_csv('Route_Dataframe.csv')"
   ]
  },
  {
   "cell_type": "code",
   "execution_count": 72,
   "id": "659c85a5",
   "metadata": {},
   "outputs": [
    {
     "data": {
      "text/plain": [
       "'Now lets automate the index.html page'"
      ]
     },
     "execution_count": 72,
     "metadata": {},
     "output_type": "execute_result"
    }
   ],
   "source": [
    "'''Now lets automate the index.html page'''"
   ]
  },
  {
   "cell_type": "code",
   "execution_count": 73,
   "id": "2e58355f",
   "metadata": {},
   "outputs": [],
   "source": [
    "html_css_header = \"\"\"\n",
    "<!DOCTYPE html>\n",
    "<html>\n",
    "<head>\n",
    "<style>\n",
    "      body {\n",
    "        background-image: url('CR_background.jpeg');\n",
    "        background-repeat: no-repeat;\n",
    "        background-attachment: fixed;\n",
    "        background-size: cover;\n",
    "      }\n",
    "</style>\n",
    "<style>\n",
    "div.gallery {\n",
    "  border: 1px solid #ccc;\n",
    "  background-color:#ffffff;\n",
    "}\n",
    "\n",
    "div.gallery:hover {\n",
    "  border: 1px solid #777;\n",
    "}\n",
    "      \n",
    "div.gallery img {\n",
    "  width: 100%;\n",
    "  height: auto;\n",
    "}\n",
    "\n",
    "div.desc {\n",
    "  padding: 15px;\n",
    "  text-align: center;\n",
    "}\n",
    "\n",
    "* {\n",
    "  box-sizing: border-box;\n",
    "}\n",
    "\n",
    ".responsive {\n",
    "  padding: 6px 6px;\n",
    "  float: left;\n",
    "  width: 24.99999%;\n",
    "}\n",
    "\n",
    "@media only screen and (max-width: 700px) {\n",
    "  .responsive {\n",
    "    width: 49.99999%;\n",
    "    margin: 6px 0;\n",
    "  }\n",
    "}\n",
    "\n",
    "@media only screen and (max-width: 500px) {\n",
    "  .responsive {\n",
    "    width: 100%;\n",
    "  }\n",
    "}\n",
    "\n",
    ".clearfix:after {\n",
    "  content: \"\";\n",
    "  display: table;\n",
    "  clear: both;\n",
    "}\n",
    "</style>\n",
    "</head>\n",
    "\"\"\""
   ]
  },
  {
   "cell_type": "code",
   "execution_count": 74,
   "id": "ed94eccc",
   "metadata": {},
   "outputs": [],
   "source": [
    "html_css_body = \"\"\"<body>\n",
    "\n",
    "<h1>Golden Arrow Bus Routes and Timetables</h1>\n",
    "<p>Produced for Commute Republic</p>\"\"\"\n",
    "\n",
    "  \n",
    "\n",
    "\n",
    "html_css_footer = \"\"\"\n",
    "<div class=\"clearfix\"></div>\n",
    "\n",
    "<div style=\"padding:12px;\">\n",
    "  <p> The maps and timetables provided on this website are intended for informational purposes only. By accessing and using this website, you acknowledge and agree to the exclusions and limitations of liability as detailed in our <a href=\"disclaimer.html\">Website Disclaimer</a>.</p>\n",
    "</div>\n",
    "\n",
    "    <a href=\"https://www.buymeacoffee.com/acommutaa\" target=\"_blank\">\n",
    "        <img src=\"https://www.buymeacoffee.com/assets/img/custom_images/orange_img.png\" alt=\"Buy Me A Coffee\" style=\"height: 41px !important;width: 174px !important;box-shadow: 0px 3px 2px 0px rgba(190, 190, 190, 0.5) !important;-webkit-box-shadow: 0px 3px 2px 0px rgba(190, 190, 190, 0.5) !important;\">\n",
    "    </a>\n",
    "    <a href=\"https://commuterepublic.wordpress.com\" target=\"_blank\">\n",
    "        <img src=\"CR_logo.png\" alt=\"Commute Republic\" style=\"height: 41px !important;width: 174px !important;box-shadow: 0px 3px 2px 0px rgba(190, 190, 190, 0.5) !important;-webkit-box-shadow: 0px 3px 2px 0px rgba(190, 190, 190, 0.5) !important;\">\n",
    "    </a>\n",
    "    <script async src=\"https://pagead2.googlesyndication.com/pagead/js/adsbygoogle.js?client=ca-pub-5311812061105987\" crossorigin=\"anonymous\">    \n",
    "    </script>\n",
    "    \n",
    "</body>\n",
    "</html>\n",
    "\"\"\""
   ]
  },
  {
   "cell_type": "code",
   "execution_count": 75,
   "id": "0b52ee65",
   "metadata": {},
   "outputs": [],
   "source": [
    "route_information = pd.read_csv('Route_Dataframe.csv')\n",
    "\n",
    "thumbnails = route_information['Thumbnail']\n",
    "maps = route_information['Map']\n",
    "timetables = route_information['Timetable']\n",
    "summary = route_information['Synopsis']\n"
   ]
  },
  {
   "cell_type": "code",
   "execution_count": 76,
   "id": "00c3482f",
   "metadata": {},
   "outputs": [
    {
     "name": "stdout",
     "output_type": "stream",
     "text": [
      "\n",
      "<div class=\"responsive\">\n",
      "      <div class=\"gallery\">\n",
      "        <a target=\"_blank\" href=\"./CITY_RETREAT_via_MAIN RD/map400_008_CR_CITY_RETREAT_via_MAIN RD.html\">\n",
      "          <img src=\"./CITY_RETREAT_via_MAIN RD/CITY_RETREAT_via_MAIN RD.png\" alt=\"Retreat/City\" width=\"200\" height=\"200\">\n",
      "        </a>\n",
      "        <div class=\"desc\">\n",
      "\n",
      "        <a href=\"https://www.gabs.co.za/Pdf/Rpdf/RETREAT___CAPE_TOWN_from_20240422_to_99999999_000802.pdf\" target=\"_blank\" style=\"background-color: #ffffff;\">City to Retreat (via Main Rd) Timetable</a>\n",
      "        </div>\n",
      "      </div>\n",
      "    </div>\n",
      "\n",
      "    \n",
      "<div class=\"responsive\">\n",
      "      <div class=\"gallery\">\n",
      "        <a target=\"_blank\" href=\"./CITY_BELLVILLE_via_VOORTREKKER RD/map720_001_AR_CITY_BELLVILLE_via_VOORTREKKER RD.html\">\n",
      "          <img src=\"./CITY_BELLVILLE_via_VOORTREKKER RD/CITY_BELLVILLE_via_VOORTREKKER RD.png\" alt=\"Retreat/City\" width=\"200\" height=\"200\">\n",
      "        </a>\n",
      "        <div class=\"desc\">\n",
      "\n",
      "        <a href=\"https://www.gabs.co.za/Pdf/Bpdf/BELLVILLE___CAPE_TOWN_from_20240226_to_20240414_000101.pdf\" target=\"_blank\" style=\"background-color: #ffffff;\">City to Bellville (via Voortrekker Rd) Timetable</a>\n",
      "        </div>\n",
      "      </div>\n",
      "    </div>\n",
      "\n",
      "    \n",
      "<div class=\"responsive\">\n",
      "      <div class=\"gallery\">\n",
      "        <a target=\"_blank\" href=\"./HOUT BAY HARBOUR_WYNBERG_via_VICTORIA RD, PRINCESS RD, HOUTBAY BEACH, MAIN, CONSTANTIA, MAIN, WETTON/map648_032_H_HOUT BAY HARBOUR_WYNBERG_via_VICTORIA RD, PRINCESS RD, HOUTBAY BEACH, MAIN, CONSTANTIA, MAIN, WETTON.html\">\n",
      "          <img src=\"./HOUT BAY HARBOUR_WYNBERG_via_VICTORIA RD, PRINCESS RD, HOUTBAY BEACH, MAIN, CONSTANTIA, MAIN, WETTON/HOUT BAY HARBOUR_WYNBERG_via_VICTORIA RD, PRINCESS RD, HOUTBAY BEACH, MAIN, CONSTANTIA, MAIN, WETTON.png\" alt=\"Retreat/City\" width=\"200\" height=\"200\">\n",
      "        </a>\n",
      "        <div class=\"desc\">\n",
      "\n",
      "        <a href=\"https://www.gabs.co.za/Pdf/Hpdf/HOUT_BAY___WYNBERG_from_20240225_to_99999999_003202.pdf\" target=\"_blank\" style=\"background-color: #ffffff;\">Hout Bay Harbour to Wynberg Station (via Constantia) Timetable</a>\n",
      "        </div>\n",
      "      </div>\n",
      "    </div>\n",
      "\n",
      "    \n",
      "<div class=\"responsive\">\n",
      "      <div class=\"gallery\">\n",
      "        <a target=\"_blank\" href=\"./CLAREMONT_NYANGA_via_TURFHALL, FLAMINGO, LANSDOWNE, NY1, NY 3, TERMINUS/map988_059_L_CLAREMONT_NYANGA_via_TURFHALL, FLAMINGO, LANSDOWNE, NY1, NY 3, TERMINUS.html\">\n",
      "          <img src=\"./CLAREMONT_WYNBERG_via_VIA BISHOPSCOURT/CLAREMONT_WYNBERG_via_VIA BISHOPSCOURT.png\" alt=\"Retreat/City\" width=\"200\" height=\"200\">\n",
      "        </a>\n",
      "        <div class=\"desc\">\n",
      "\n",
      "        <a href=\"https://www.gabs.co.za/Pdf/Cpdf/CLAREMONT___WYNBERG_from_20221226_to_99999999_002802.pdf\" target=\"_blank\" style=\"background-color: #ffffff;\">Claremont to Wynberg (via Bishopscourt) Timetable</a>\n",
      "        </div>\n",
      "      </div>\n",
      "    </div>\n",
      "\n",
      "    \n",
      "<div class=\"responsive\">\n",
      "      <div class=\"gallery\">\n",
      "        <a target=\"_blank\" href=\"./CITY_EDGEMEAD_via_N1 FREEWAY, RATANGA CENTURY CITY, BOSMANSDAM, VRYBURGER VIA BOTHASIG, EDGEMEAD DR/map364_005_N_CITY_EDGEMEAD_via_N1 FREEWAY, RATANGA CENTURY CITY, BOSMANSDAM, VRYBURGER VIA BOTHASIG, EDGEMEAD DR.html\">\n",
      "          <img src=\"./CITY_EDGEMEAD_via_N1 FREEWAY, RATANGA CENTURY CITY, BOSMANSDAM, VRYBURGER VIA BOTHASIG, EDGEMEAD DR/CITY_EDGEMEAD_via_N1 FREEWAY, RATANGA CENTURY CITY, BOSMANSDAM, VRYBURGER VIA BOTHASIG, EDGEMEAD DR.png\" alt=\"Retreat/City\" width=\"200\" height=\"200\">\n",
      "        </a>\n",
      "        <div class=\"desc\">\n",
      "\n",
      "        <a href=\"https://www.gabs.co.za/Pdf/Epdf/EDGEMEAD___CAPE_TOWN_from_20240330_to_99999999_000502.pdf\" target=\"_blank\" style=\"background-color: #ffffff;\">Cape Town to Edgemead (via Century City) Timetable</a>\n",
      "        </div>\n",
      "      </div>\n",
      "    </div>\n",
      "\n",
      "    \n",
      "<div class=\"responsive\">\n",
      "      <div class=\"gallery\">\n",
      "        <a target=\"_blank\" href=\"CLAREMONT_NYANGA_via_TURFHALL, FLAMINGO, LANSDOWNE, NY1, NY 3, TERMINUS/map4_059_L_CLAREMONT_NYANGA_via_TURFHALL, FLAMINGO, LANSDOWNE, NY1, NY 3, TERMINUS.html\">\n",
      "          <img src=\"./CLAREMONT_NYANGA_via_TURFHALL, FLAMINGO, LANSDOWNE, NY1, NY 3, TERMINUS/CLAREMONT_NYANGA_via_TURFHALL, FLAMINGO, LANSDOWNE, NY1, NY 3, TERMINUS.png\" alt=\"Retreat/City\" width=\"200\" height=\"200\">\n",
      "        </a>\n",
      "        <div class=\"desc\">\n",
      "\n",
      "        <a href=\"https://www.gabs.co.zanan\" target=\"_blank\" style=\"background-color: #ffffff;\">CLAREMONT to NYANGA via TURFHALL Timetable</a>\n",
      "        </div>\n",
      "      </div>\n",
      "    </div>\n",
      "\n",
      "    \n"
     ]
    }
   ],
   "source": [
    "html_css_flesh = ''\n",
    "\n",
    "for i in range(len(maps)):\n",
    "    html_css_flesh += f\"\"\"\\n<div class=\"responsive\">\n",
    "      <div class=\"gallery\">\n",
    "        <a target=\"_blank\" href=\\\"{maps[i]}\\\">\n",
    "          <img src=\\\"{thumbnails[i]}\\\" alt=\"Retreat/City\" width=\"200\" height=\"200\">\n",
    "        </a>\n",
    "        <div class=\"desc\">\n",
    "\n",
    "        <a href=\\\"https://www.gabs.co.za{timetables[i]}\\\" target=\"_blank\" style=\"background-color: #ffffff;\">{summary[i]} Timetable</a>\n",
    "        </div>\n",
    "      </div>\n",
    "    </div>\n",
    "\n",
    "    \"\"\"\n",
    "\n",
    "print(html_css_flesh)"
   ]
  },
  {
   "cell_type": "code",
   "execution_count": 77,
   "id": "db5fadf2",
   "metadata": {},
   "outputs": [],
   "source": [
    "html_css_code = html_css_header + '\\n' + html_css_body + '\\n' + html_css_flesh+ '\\n' + html_css_footer"
   ]
  },
  {
   "cell_type": "code",
   "execution_count": 78,
   "id": "d6c6d9d8",
   "metadata": {},
   "outputs": [],
   "source": [
    "with open('index.html', 'w') as f:\n",
    "    f.write(html_css_code)"
   ]
  }
 ],
 "metadata": {
  "kernelspec": {
   "display_name": "Python 3 (ipykernel)",
   "language": "python",
   "name": "python3"
  },
  "language_info": {
   "codemirror_mode": {
    "name": "ipython",
    "version": 3
   },
   "file_extension": ".py",
   "mimetype": "text/x-python",
   "name": "python",
   "nbconvert_exporter": "python",
   "pygments_lexer": "ipython3",
   "version": "3.8.0"
  }
 },
 "nbformat": 4,
 "nbformat_minor": 5
}
